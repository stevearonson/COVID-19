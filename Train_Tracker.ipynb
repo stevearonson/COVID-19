{
  "nbformat": 4,
  "nbformat_minor": 0,
  "metadata": {
    "colab": {
      "name": "Train_Tracker.ipynb",
      "provenance": [],
      "authorship_tag": "ABX9TyPUBGlEuSqElhiDtH1BZCvM",
      "include_colab_link": true
    },
    "kernelspec": {
      "name": "python3",
      "display_name": "Python 3"
    },
    "language_info": {
      "name": "python"
    }
  },
  "cells": [
    {
      "cell_type": "markdown",
      "metadata": {
        "id": "view-in-github",
        "colab_type": "text"
      },
      "source": [
        "<a href=\"https://colab.research.google.com/github/stevearonson/COVID-19/blob/master/Train_Tracker.ipynb\" target=\"_parent\"><img src=\"https://colab.research.google.com/assets/colab-badge.svg\" alt=\"Open In Colab\"/></a>"
      ]
    },
    {
      "cell_type": "code",
      "execution_count": null,
      "metadata": {
        "id": "3J48dpfQ2zko"
      },
      "outputs": [],
      "source": [
        "!pip install piexif\n",
        "!pip install focal_loss"
      ]
    },
    {
      "cell_type": "code",
      "source": [
        "!git clone https://github.com/stevearonson/TrackNet-Badminton-Tracking-tensorflow2"
      ],
      "metadata": {
        "id": "K7goWvKO28SM"
      },
      "execution_count": null,
      "outputs": []
    },
    {
      "cell_type": "code",
      "source": [
        "%cd TrackNet-Badminton-Tracking-tensorflow2"
      ],
      "metadata": {
        "id": "gPiuxSFQ2_Js"
      },
      "execution_count": null,
      "outputs": []
    },
    {
      "cell_type": "code",
      "source": [
        "%run train.py"
      ],
      "metadata": {
        "id": "eTbdUEti3DyQ"
      },
      "execution_count": null,
      "outputs": []
    }
  ]
}